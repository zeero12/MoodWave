{
 "cells": [
  {
   "cell_type": "code",
   "execution_count": 1,
   "metadata": {
    "_cell_guid": "b1076dfc-b9ad-4769-8c92-a6c4dae69d19",
    "_uuid": "8f2839f25d086af736a60e9eeb907d3b93b6e0e5",
    "execution": {
     "iopub.execute_input": "2022-10-31T18:45:10.710529Z",
     "iopub.status.busy": "2022-10-31T18:45:10.710165Z",
     "iopub.status.idle": "2022-10-31T18:45:10.71917Z",
     "shell.execute_reply": "2022-10-31T18:45:10.718059Z",
     "shell.execute_reply.started": "2022-10-31T18:45:10.710498Z"
    },
    "id": "OsFR4ZaIcK3F"
   },
   "outputs": [
    {
     "name": "stdout",
     "output_type": "stream",
     "text": [
      "WARNING:tensorflow:From C:\\Users\\Manish Kumar\\AppData\\Roaming\\Python\\Python311\\site-packages\\keras\\src\\losses.py:2976: The name tf.losses.sparse_softmax_cross_entropy is deprecated. Please use tf.compat.v1.losses.sparse_softmax_cross_entropy instead.\n",
      "\n"
     ]
    }
   ],
   "source": [
    "import pandas as pd\n",
    "import numpy as np\n",
    "import matplotlib.pyplot as plt\n",
    "plt.style.use('default')\n",
    "\n",
    "import os\n",
    "import tensorflow as tf\n",
    "import keras\n",
    "import cv2\n",
    "\n",
    "from sklearn.model_selection import train_test_split\n",
    "\n",
    "from tensorflow.keras.preprocessing.image import ImageDataGenerator, load_img, img_to_array\n",
    "from tensorflow.keras.callbacks import EarlyStopping, ModelCheckpoint, ReduceLROnPlateau\n",
    "from tensorflow.keras.utils import plot_model\n",
    "from tensorflow.keras import layers , models, optimizers\n",
    "\n",
    "from tensorflow.keras.models import Sequential, Model\n",
    "from tensorflow.keras.layers import *\n",
    "from tensorflow.keras.applications import ResNet50V2"
   ]
  },
  {
   "cell_type": "markdown",
   "metadata": {
    "id": "ZJEY6DRjcK3J"
   },
   "source": [
    "# **Visualizing Classes**"
   ]
  },
  {
   "cell_type": "code",
   "execution_count": 7,
   "metadata": {
    "execution": {
     "iopub.execute_input": "2022-10-31T18:45:13.434995Z",
     "iopub.status.busy": "2022-10-31T18:45:13.43458Z",
     "iopub.status.idle": "2022-10-31T18:45:13.467107Z",
     "shell.execute_reply": "2022-10-31T18:45:13.466191Z",
     "shell.execute_reply.started": "2022-10-31T18:45:13.434959Z"
    },
    "id": "7VepYznXcK3K"
   },
   "outputs": [],
   "source": [
    "train_dir = 'data\\\\train\\\\'\n",
    "test_dir = 'data\\\\test\\\\'\n",
    "\n",
    "def Classes_Count( path, name):\n",
    "    Classes_Dict = {}\n",
    "    \n",
    "    for Class in os.listdir(path):\n",
    "        \n",
    "        Full_Path = path + Class\n",
    "        Classes_Dict[Class] = len(os.listdir(Full_Path))\n",
    "        \n",
    "    df = pd.DataFrame(Classes_Dict, index=[name])\n",
    "    \n",
    "    return df\n",
    "\n",
    "Train_Count = Classes_Count(train_dir, 'Train').transpose().sort_values(by=\"Train\", ascending=False)\n",
    "Test_Count = Classes_Count(test_dir, 'Test').transpose().sort_values(by=\"Test\", ascending=False)"
   ]
  },
  {
   "cell_type": "code",
   "execution_count": 8,
   "metadata": {
    "execution": {
     "iopub.execute_input": "2022-10-31T18:45:13.651745Z",
     "iopub.status.busy": "2022-10-31T18:45:13.651417Z",
     "iopub.status.idle": "2022-10-31T18:45:13.662864Z",
     "shell.execute_reply": "2022-10-31T18:45:13.661854Z",
     "shell.execute_reply.started": "2022-10-31T18:45:13.651717Z"
    },
    "id": "QWDotxg4cK3L",
    "outputId": "7d1bde5e-8fcf-4446-e0db-cbbcd3ca5561"
   },
   "outputs": [
    {
     "data": {
      "text/html": [
       "<div>\n",
       "<style scoped>\n",
       "    .dataframe tbody tr th:only-of-type {\n",
       "        vertical-align: middle;\n",
       "    }\n",
       "\n",
       "    .dataframe tbody tr th {\n",
       "        vertical-align: top;\n",
       "    }\n",
       "\n",
       "    .dataframe thead th {\n",
       "        text-align: right;\n",
       "    }\n",
       "</style>\n",
       "<table border=\"1\" class=\"dataframe\">\n",
       "  <thead>\n",
       "    <tr style=\"text-align: right;\">\n",
       "      <th></th>\n",
       "      <th>Train</th>\n",
       "      <th>Test</th>\n",
       "    </tr>\n",
       "  </thead>\n",
       "  <tbody>\n",
       "    <tr>\n",
       "      <th>happy</th>\n",
       "      <td>7215</td>\n",
       "      <td>1774</td>\n",
       "    </tr>\n",
       "    <tr>\n",
       "      <th>neutral</th>\n",
       "      <td>4965</td>\n",
       "      <td>1233</td>\n",
       "    </tr>\n",
       "    <tr>\n",
       "      <th>sad</th>\n",
       "      <td>4830</td>\n",
       "      <td>1247</td>\n",
       "    </tr>\n",
       "    <tr>\n",
       "      <th>fear</th>\n",
       "      <td>4097</td>\n",
       "      <td>1024</td>\n",
       "    </tr>\n",
       "    <tr>\n",
       "      <th>angry</th>\n",
       "      <td>3995</td>\n",
       "      <td>958</td>\n",
       "    </tr>\n",
       "    <tr>\n",
       "      <th>surprise</th>\n",
       "      <td>3171</td>\n",
       "      <td>831</td>\n",
       "    </tr>\n",
       "    <tr>\n",
       "      <th>disgust</th>\n",
       "      <td>436</td>\n",
       "      <td>111</td>\n",
       "    </tr>\n",
       "  </tbody>\n",
       "</table>\n",
       "</div>"
      ],
      "text/plain": [
       "          Train  Test\n",
       "happy      7215  1774\n",
       "neutral    4965  1233\n",
       "sad        4830  1247\n",
       "fear       4097  1024\n",
       "angry      3995   958\n",
       "surprise   3171   831\n",
       "disgust     436   111"
      ]
     },
     "execution_count": 8,
     "metadata": {},
     "output_type": "execute_result"
    }
   ],
   "source": [
    "pd.concat([Train_Count,Test_Count] , axis=1)"
   ]
  },
  {
   "cell_type": "code",
   "execution_count": 9,
   "metadata": {
    "execution": {
     "iopub.execute_input": "2022-10-30T11:35:57.938369Z",
     "iopub.status.busy": "2022-10-30T11:35:57.937756Z",
     "iopub.status.idle": "2022-10-30T11:35:58.193555Z",
     "shell.execute_reply": "2022-10-30T11:35:58.192652Z",
     "shell.execute_reply.started": "2022-10-30T11:35:57.938335Z"
    },
    "id": "85np-T5-cK3M",
    "outputId": "fca47b30-2c0e-4780-b878-a9bff5bff8aa"
   },
   "outputs": [
    {
     "data": {
      "text/plain": [
       "<Axes: >"
      ]
     },
     "execution_count": 9,
     "metadata": {},
     "output_type": "execute_result"
    },
    {
     "data": {
      "image/png": "[encoded data removed]",
      "text/plain": [
       "<Figure size 640x480 with 1 Axes>"
      ]
     },
     "metadata": {},
     "output_type": "display_data"
    }
   ],
   "source": [
    "Train_Count.plot(kind='barh')"
   ]
  },
  {
   "cell_type": "code",
   "execution_count": 10,
   "metadata": {
    "execution": {
     "iopub.execute_input": "2022-10-30T11:35:58.196487Z",
     "iopub.status.busy": "2022-10-30T11:35:58.195876Z",
     "iopub.status.idle": "2022-10-30T11:35:58.501426Z",
     "shell.execute_reply": "2022-10-30T11:35:58.500121Z",
     "shell.execute_reply.started": "2022-10-30T11:35:58.196449Z"
    },
    "id": "tAydj7OOcK3N",
    "outputId": "119888bc-fc83-4c65-b201-8045710563c2"
   },
   "outputs": [
    {
     "data": {
      "text/plain": [
       "<Axes: >"
      ]
     },
     "execution_count": 10,
     "metadata": {},
     "output_type": "execute_result"
    },
    {
     "data": {
      "image/png": "[encoded data removed]",
      "text/plain": [
       "<Figure size 640x480 with 1 Axes>"
      ]
     },
     "metadata": {},
     "output_type": "display_data"
    }
   ],
   "source": [
    "Test_Count.plot(kind='barh')"
   ]
  },
  {
   "cell_type": "code",
   "execution_count": 12,
   "metadata": {
    "execution": {
     "iopub.execute_input": "2022-10-30T11:35:58.503602Z",
     "iopub.status.busy": "2022-10-30T11:35:58.50322Z",
     "iopub.status.idle": "2022-10-30T11:35:59.407513Z",
     "shell.execute_reply": "2022-10-30T11:35:59.406575Z",
     "shell.execute_reply.started": "2022-10-30T11:35:58.503567Z"
    },
    "id": "jrajJd6QcK3O",
    "outputId": "dd94214a-c1be-4006-adc4-b6d3afa5c596"
   },
   "outputs": [
    {
     "data": {
      "image/png": "[encoded data removed]",
      "text/plain": [
       "<Figure size 2500x800 with 7 Axes>"
      ]
     },
     "metadata": {},
     "output_type": "display_data"
    }
   ],
   "source": [
    "plt.style.use('default')\n",
    "plt.figure(figsize = (25, 8))\n",
    "image_count = 1\n",
    "BASE_URL = 'data\\\\train\\\\'\n",
    "\n",
    "for directory in os.listdir(BASE_URL):\n",
    "    if directory[0] != '.':\n",
    "        for i, file in enumerate(os.listdir(BASE_URL + directory)):\n",
    "            if i == 1:\n",
    "                break\n",
    "            else:\n",
    "                fig = plt.subplot(1, 7, image_count)\n",
    "                image_count += 1\n",
    "                image = cv2.imread(BASE_URL + directory + '/' + file)\n",
    "                plt.imshow(image)\n",
    "                plt.title(directory, fontsize = 20)"
   ]
  },
  {
   "cell_type": "markdown",
   "metadata": {
    "id": "Ml6az1aFcK3Q"
   },
   "source": [
    "# **Data Preprocessing**"
   ]
  },
  {
   "cell_type": "code",
   "execution_count": 14,
   "metadata": {
    "execution": {
     "iopub.execute_input": "2022-10-30T11:35:59.409004Z",
     "iopub.status.busy": "2022-10-30T11:35:59.408618Z",
     "iopub.status.idle": "2022-10-30T11:35:59.41504Z",
     "shell.execute_reply": "2022-10-30T11:35:59.413817Z",
     "shell.execute_reply.started": "2022-10-30T11:35:59.408967Z"
    },
    "id": "ZKXO7pCFcK3Q"
   },
   "outputs": [],
   "source": [
    "img_shape = 48\n",
    "batch_size = 64\n",
    "train_data_path = 'data\\\\train\\\\'\n",
    "test_data_path = 'data\\\\test\\\\'"
   ]
  },
  {
   "cell_type": "code",
   "execution_count": 15,
   "metadata": {
    "execution": {
     "iopub.execute_input": "2022-10-30T11:35:59.416908Z",
     "iopub.status.busy": "2022-10-30T11:35:59.41642Z",
     "iopub.status.idle": "2022-10-30T11:36:20.598303Z",
     "shell.execute_reply": "2022-10-30T11:36:20.597128Z",
     "shell.execute_reply.started": "2022-10-30T11:35:59.416858Z"
    },
    "id": "TOlnNiY9cK3R",
    "outputId": "f31f905a-ce99-4b65-c8d5-902c98cc19c7"
   },
   "outputs": [
    {
     "name": "stdout",
     "output_type": "stream",
     "text": [
      "Found 28709 images belonging to 7 classes.\n",
      "Found 7178 images belonging to 7 classes.\n"
     ]
    }
   ],
   "source": [
    "train_preprocessor = ImageDataGenerator(\n",
    "        rescale = 1 / 255.,\n",
    "        # Data Augmentation\n",
    "        rotation_range=10,\n",
    "        zoom_range=0.2,\n",
    "        width_shift_range=0.1,\n",
    "        height_shift_range=0.1,\n",
    "        horizontal_flip=True,                                        \n",
    "        fill_mode='nearest',\n",
    "    )\n",
    "\n",
    "\n",
    "test_preprocessor = ImageDataGenerator(\n",
    "    rescale = 1 / 255.,\n",
    ")\n",
    "\n",
    "train_data = train_preprocessor.flow_from_directory(\n",
    "    train_data_path,\n",
    "    class_mode=\"categorical\",\n",
    "    target_size=(img_shape,img_shape),\n",
    "    color_mode='rgb', \n",
    "    shuffle=True,\n",
    "    batch_size=batch_size,\n",
    "    subset='training', \n",
    ")\n",
    "\n",
    "\n",
    "test_data = test_preprocessor.flow_from_directory(\n",
    "    test_data_path,\n",
    "    class_mode=\"categorical\",\n",
    "    target_size=(img_shape,img_shape),\n",
    "    color_mode=\"rgb\",\n",
    "    shuffle=False,\n",
    "    batch_size=batch_size,\n",
    ")"
   ]
  },
  {
   "cell_type": "markdown",
   "metadata": {
    "id": "3_fBEuJvg4iZ"
   },
   "source": [
    "# **Building CNN Model**"
   ]
  },
  {
   "cell_type": "code",
   "execution_count": 16,
   "metadata": {
    "execution": {
     "iopub.execute_input": "2022-10-27T16:12:18.412186Z",
     "iopub.status.busy": "2022-10-27T16:12:18.411368Z",
     "iopub.status.idle": "2022-10-27T16:12:18.428559Z",
     "shell.execute_reply": "2022-10-27T16:12:18.427559Z",
     "shell.execute_reply.started": "2022-10-27T16:12:18.412145Z"
    },
    "id": "oeA1n1Wfg4iZ"
   },
   "outputs": [],
   "source": [
    "def Create_CNN_Model():\n",
    "    \n",
    "    model = Sequential()\n",
    "    \n",
    "    #CNN1\n",
    "    model.add(Conv2D(32, (3,3), activation='relu', input_shape=(img_shape, img_shape, 3)))\n",
    "    model.add(BatchNormalization())\n",
    "    model.add(Conv2D(64,(3,3), activation='relu', padding='same'))\n",
    "    model.add(BatchNormalization())\n",
    "    model.add(MaxPooling2D(pool_size=(2,2), padding='same'))\n",
    "    model.add(Dropout(0.25))\n",
    "    \n",
    "    #CNN2\n",
    "    model.add(Conv2D(64, (3,3), activation='relu', ))\n",
    "    model.add(BatchNormalization())\n",
    "    model.add(Conv2D(128,(3,3), activation='relu', padding='same'))\n",
    "    model.add(BatchNormalization())\n",
    "    model.add(MaxPooling2D(pool_size=(2,2), padding='same'))\n",
    "    model.add(Dropout(0.25))\n",
    "    \n",
    "    #CNN3\n",
    "    model.add(Conv2D(128, (3,3), activation='relu'))\n",
    "    model.add(BatchNormalization())\n",
    "    model.add(Conv2D(256,(3,3), activation='relu', padding='same'))\n",
    "    model.add(BatchNormalization())\n",
    "    model.add(MaxPooling2D(pool_size=(2,2), padding='same'))\n",
    "    model.add(Dropout(0.25))\n",
    "    \n",
    "    \n",
    "    #Output\n",
    "    model.add(Flatten())\n",
    "    \n",
    "    model.add(Dense(1024, activation='relu'))\n",
    "    model.add(BatchNormalization())\n",
    "    model.add(Dropout(0.25))\n",
    "    \n",
    "    model.add(Dense(512, activation='relu'))\n",
    "    model.add(BatchNormalization())\n",
    "    model.add(Dropout(0.25))\n",
    "    \n",
    "    model.add(Dense(256, activation='relu'))\n",
    "    model.add(BatchNormalization())\n",
    "    model.add(Dropout(0.25))\n",
    "    \n",
    "    model.add(Dense(128, activation='relu'))\n",
    "    model.add(BatchNormalization())\n",
    "    model.add(Dropout(0.25))\n",
    "    \n",
    "    model.add(Dense(64, activation='relu'))\n",
    "    model.add(BatchNormalization())\n",
    "    model.add(Dropout(0.25))\n",
    "    \n",
    "    model.add(Dense(32, activation='relu'))\n",
    "    model.add(BatchNormalization())\n",
    "    model.add(Dropout(0.25))\n",
    "    \n",
    "    model.add(Dense(7,activation='softmax'))\n",
    "    \n",
    "    \n",
    "    return model"
   ]
  },
  {
   "cell_type": "code",
   "execution_count": 17,
   "metadata": {
    "execution": {
     "iopub.execute_input": "2022-10-27T16:12:18.667289Z",
     "iopub.status.busy": "2022-10-27T16:12:18.666924Z",
     "iopub.status.idle": "2022-10-27T16:12:18.945673Z",
     "shell.execute_reply": "2022-10-27T16:12:18.944253Z",
     "shell.execute_reply.started": "2022-10-27T16:12:18.667259Z"
    },
    "id": "E1TV5dQGg4ia",
    "outputId": "3b6ce039-6005-4dfd-d1e7-285724af286c"
   },
   "outputs": [
    {
     "name": "stdout",
     "output_type": "stream",
     "text": [
      "WARNING:tensorflow:From C:\\Users\\Manish Kumar\\AppData\\Roaming\\Python\\Python311\\site-packages\\keras\\src\\backend.py:873: The name tf.get_default_graph is deprecated. Please use tf.compat.v1.get_default_graph instead.\n",
      "\n",
      "WARNING:tensorflow:From C:\\Users\\Manish Kumar\\AppData\\Roaming\\Python\\Python311\\site-packages\\keras\\src\\layers\\normalization\\batch_normalization.py:979: The name tf.nn.fused_batch_norm is deprecated. Please use tf.compat.v1.nn.fused_batch_norm instead.\n",
      "\n",
      "Model: \"sequential\"\n",
      "_________________________________________________________________\n",
      " Layer (type)                Output Shape              Param #   \n",
      "=================================================================\n",
      " conv2d (Conv2D)             (None, 46, 46, 32)        896       \n",
      "                                                                 \n",
      " batch_normalization (Batch  (None, 46, 46, 32)        128       \n",
      " Normalization)                                                  \n",
      "                                                                 \n",
      " conv2d_1 (Conv2D)           (None, 46, 46, 64)        18496     \n",
      "                                                                 \n",
      " batch_normalization_1 (Bat  (None, 46, 46, 64)        256       \n",
      " chNormalization)                                                \n",
      "                                                                 \n",
      " max_pooling2d (MaxPooling2  (None, 23, 23, 64)        0         \n",
      " D)                                                              \n",
      "                                                                 \n",
      " dropout (Dropout)           (None, 23, 23, 64)        0         \n",
      "                                                                 \n",
      " conv2d_2 (Conv2D)           (None, 21, 21, 64)        36928     \n",
      "                                                                 \n",
      " batch_normalization_2 (Bat  (None, 21, 21, 64)        256       \n",
      " chNormalization)                                                \n",
      "                                                                 \n",
      " conv2d_3 (Conv2D)           (None, 21, 21, 128)       73856     \n",
      "                                                                 \n",
      " batch_normalization_3 (Bat  (None, 21, 21, 128)       512       \n",
      " chNormalization)                                                \n",
      "                                                                 \n",
      " max_pooling2d_1 (MaxPoolin  (None, 11, 11, 128)       0         \n",
      " g2D)                                                            \n",
      "                                                                 \n",
      " dropout_1 (Dropout)         (None, 11, 11, 128)       0         \n",
      "                                                                 \n",
      " conv2d_4 (Conv2D)           (None, 9, 9, 128)         147584    \n",
      "                                                                 \n",
      " batch_normalization_4 (Bat  (None, 9, 9, 128)         512       \n",
      " chNormalization)                                                \n",
      "                                                                 \n",
      " conv2d_5 (Conv2D)           (None, 9, 9, 256)         295168    \n",
      "                                                                 \n",
      " batch_normalization_5 (Bat  (None, 9, 9, 256)         1024      \n",
      " chNormalization)                                                \n",
      "                                                                 \n",
      " max_pooling2d_2 (MaxPoolin  (None, 5, 5, 256)         0         \n",
      " g2D)                                                            \n",
      "                                                                 \n",
      " dropout_2 (Dropout)         (None, 5, 5, 256)         0         \n",
      "                                                                 \n",
      " flatten (Flatten)           (None, 6400)              0         \n",
      "                                                                 \n",
      " dense (Dense)               (None, 1024)              6554624   \n",
      "                                                                 \n",
      " batch_normalization_6 (Bat  (None, 1024)              4096      \n",
      " chNormalization)                                                \n",
      "                                                                 \n",
      " dropout_3 (Dropout)         (None, 1024)              0         \n",
      "                                                                 \n",
      " dense_1 (Dense)             (None, 512)               524800    \n",
      "                                                                 \n",
      " batch_normalization_7 (Bat  (None, 512)               2048      \n",
      " chNormalization)                                                \n",
      "                                                                 \n",
      " dropout_4 (Dropout)         (None, 512)               0         \n",
      "                                                                 \n",
      " dense_2 (Dense)             (None, 256)               131328    \n",
      "                                                                 \n",
      " batch_normalization_8 (Bat  (None, 256)               1024      \n",
      " chNormalization)                                                \n",
      "                                                                 \n",
      " dropout_5 (Dropout)         (None, 256)               0         \n",
      "                                                                 \n",
      " dense_3 (Dense)             (None, 128)               32896     \n",
      "                                                                 \n",
      " batch_normalization_9 (Bat  (None, 128)               512       \n",
      " chNormalization)                                                \n",
      "                                                                 \n",
      " dropout_6 (Dropout)         (None, 128)               0         \n",
      "                                                                 \n",
      " dense_4 (Dense)             (None, 64)                8256      \n",
      "                                                                 \n",
      " batch_normalization_10 (Ba  (None, 64)                256       \n",
      " tchNormalization)                                               \n",
      "                                                                 \n",
      " dropout_7 (Dropout)         (None, 64)                0         \n",
      "                                                                 \n",
      " dense_5 (Dense)             (None, 32)                2080      \n",
      "                                                                 \n",
      " batch_normalization_11 (Ba  (None, 32)                128       \n",
      " tchNormalization)                                               \n",
      "                                                                 \n",
      " dropout_8 (Dropout)         (None, 32)                0         \n",
      "                                                                 \n",
      " dense_6 (Dense)             (None, 7)                 231       \n",
      "                                                                 \n",
      "=================================================================\n",
      "Total params: 7837895 (29.90 MB)\n",
      "Trainable params: 7832519 (29.88 MB)\n",
      "Non-trainable params: 5376 (21.00 KB)\n",
      "_________________________________________________________________\n",
      "WARNING:tensorflow:From C:\\Users\\Manish Kumar\\AppData\\Roaming\\Python\\Python311\\site-packages\\keras\\src\\optimizers\\__init__.py:309: The name tf.train.Optimizer is deprecated. Please use tf.compat.v1.train.Optimizer instead.\n",
      "\n"
     ]
    }
   ],
   "source": [
    "CNN_Model = Create_CNN_Model()\n",
    "\n",
    "CNN_Model.summary()\n",
    "\n",
    "CNN_Model.compile(optimizer=\"adam\", loss='categorical_crossentropy', metrics=['accuracy'])"
   ]
  },
  {
   "cell_type": "markdown",
   "metadata": {
    "id": "JfPOc4Reg4ia"
   },
   "source": [
    "**Specifying Callbacks**"
   ]
  },
  {
   "cell_type": "code",
   "execution_count": 18,
   "metadata": {
    "execution": {
     "iopub.execute_input": "2022-10-27T16:12:36.240378Z",
     "iopub.status.busy": "2022-10-27T16:12:36.240009Z",
     "iopub.status.idle": "2022-10-27T16:12:36.246647Z",
     "shell.execute_reply": "2022-10-27T16:12:36.245365Z",
     "shell.execute_reply.started": "2022-10-27T16:12:36.240348Z"
    },
    "id": "GmRkrBGeg4ib"
   },
   "outputs": [],
   "source": [
    "# Create Callback Checkpoint\n",
    "checkpoint_path = \"CNN_Model_Checkpoint\"\n",
    "\n",
    "Checkpoint = ModelCheckpoint(checkpoint_path, monitor=\"val_accuracy\", save_best_only=True)\n",
    "\n",
    "# Create Early Stopping Callback to monitor the accuracy\n",
    "Early_Stopping = EarlyStopping(monitor = 'val_accuracy', patience = 15, restore_best_weights = True, verbose=1)\n",
    "\n",
    "# Create ReduceLROnPlateau Callback to reduce overfitting by decreasing learning rate\n",
    "Reducing_LR = tf.keras.callbacks.ReduceLROnPlateau( monitor='val_loss',\n",
    "                                                  factor=0.2,\n",
    "                                                  patience=2,\n",
    "#                                                   min_lr=0.000005,\n",
    "                                                  verbose=1)\n",
    "\n",
    "callbacks = [Early_Stopping, Reducing_LR]\n",
    "\n",
    "steps_per_epoch = train_data.n // train_data.batch_size\n",
    "validation_steps = test_data.n // test_data.batch_size"
   ]
  },
  {
   "cell_type": "code",
   "execution_count": 19,
   "metadata": {
    "execution": {
     "iopub.execute_input": "2022-10-27T16:12:46.184155Z",
     "iopub.status.busy": "2022-10-27T16:12:46.183775Z",
     "iopub.status.idle": "2022-10-27T17:10:16.244062Z",
     "shell.execute_reply": "2022-10-27T17:10:16.243084Z",
     "shell.execute_reply.started": "2022-10-27T16:12:46.184123Z"
    },
    "id": "_8fvDLG2g4id",
    "outputId": "60781e49-e110-433f-89f3-261e4c0cb8a3"
   },
   "outputs": [
    {
     "name": "stdout",
     "output_type": "stream",
     "text": [
      "Epoch 1/50\n",
      "WARNING:tensorflow:From C:\\Users\\Manish Kumar\\AppData\\Roaming\\Python\\Python311\\site-packages\\keras\\src\\utils\\tf_utils.py:492: The name tf.ragged.RaggedTensorValue is deprecated. Please use tf.compat.v1.ragged.RaggedTensorValue instead.\n",
      "\n",
      "WARNING:tensorflow:From C:\\Users\\Manish Kumar\\AppData\\Roaming\\Python\\Python311\\site-packages\\keras\\src\\engine\\base_layer_utils.py:384: The name tf.executing_eagerly_outside_functions is deprecated. Please use tf.compat.v1.executing_eagerly_outside_functions instead.\n",
      "\n",
      "448/448 [==============================] - 169s 360ms/step - loss: 2.0746 - accuracy: 0.1973 - val_loss: 1.8323 - val_accuracy: 0.2504 - lr: 0.0010\n",
      "Epoch 2/50\n",
      "179/448 [==========>...................] - ETA: 1:28 - loss: 1.8535 - accuracy: 0.2369"
     ]
    },
    {
     "ename": "KeyboardInterrupt",
     "evalue": "",
     "output_type": "error",
     "traceback": [
      "\u001b[1;31m---------------------------------------------------------------------------\u001b[0m",
      "\u001b[1;31mKeyboardInterrupt\u001b[0m                         Traceback (most recent call last)",
      "Cell \u001b[1;32mIn[19], line 1\u001b[0m\n\u001b[1;32m----> 1\u001b[0m CNN_history \u001b[38;5;241m=\u001b[39m \u001b[43mCNN_Model\u001b[49m\u001b[38;5;241;43m.\u001b[39;49m\u001b[43mfit\u001b[49m\u001b[43m(\u001b[49m\u001b[43m \u001b[49m\u001b[43mtrain_data\u001b[49m\u001b[43m \u001b[49m\u001b[43m,\u001b[49m\u001b[43m \u001b[49m\u001b[43mvalidation_data\u001b[49m\u001b[38;5;241;43m=\u001b[39;49m\u001b[43m \u001b[49m\u001b[43mtest_data\u001b[49m\u001b[43m \u001b[49m\u001b[43m,\u001b[49m\u001b[43m \u001b[49m\u001b[43mepochs\u001b[49m\u001b[38;5;241;43m=\u001b[39;49m\u001b[38;5;241;43m50\u001b[39;49m\u001b[43m,\u001b[49m\u001b[43m \u001b[49m\u001b[43mbatch_size\u001b[49m\u001b[38;5;241;43m=\u001b[39;49m\u001b[43m \u001b[49m\u001b[43mbatch_size\u001b[49m\u001b[43m,\u001b[49m\n\u001b[0;32m      2\u001b[0m \u001b[43m                            \u001b[49m\u001b[43mcallbacks\u001b[49m\u001b[38;5;241;43m=\u001b[39;49m\u001b[43mcallbacks\u001b[49m\u001b[43m,\u001b[49m\u001b[43m \u001b[49m\u001b[43msteps_per_epoch\u001b[49m\u001b[38;5;241;43m=\u001b[39;49m\u001b[43m \u001b[49m\u001b[43msteps_per_epoch\u001b[49m\u001b[43m,\u001b[49m\u001b[43m \u001b[49m\u001b[43mvalidation_steps\u001b[49m\u001b[38;5;241;43m=\u001b[39;49m\u001b[43mvalidation_steps\u001b[49m\u001b[43m)\u001b[49m\n",
      "File \u001b[1;32m~\\AppData\\Roaming\\Python\\Python311\\site-packages\\keras\\src\\utils\\traceback_utils.py:65\u001b[0m, in \u001b[0;36mfilter_traceback.<locals>.error_handler\u001b[1;34m(*args, **kwargs)\u001b[0m\n\u001b[0;32m     63\u001b[0m filtered_tb \u001b[38;5;241m=\u001b[39m \u001b[38;5;28;01mNone\u001b[39;00m\n\u001b[0;32m     64\u001b[0m \u001b[38;5;28;01mtry\u001b[39;00m:\n\u001b[1;32m---> 65\u001b[0m     \u001b[38;5;28;01mreturn\u001b[39;00m \u001b[43mfn\u001b[49m\u001b[43m(\u001b[49m\u001b[38;5;241;43m*\u001b[39;49m\u001b[43margs\u001b[49m\u001b[43m,\u001b[49m\u001b[43m \u001b[49m\u001b[38;5;241;43m*\u001b[39;49m\u001b[38;5;241;43m*\u001b[39;49m\u001b[43mkwargs\u001b[49m\u001b[43m)\u001b[49m\n\u001b[0;32m     66\u001b[0m \u001b[38;5;28;01mexcept\u001b[39;00m \u001b[38;5;167;01mException\u001b[39;00m \u001b[38;5;28;01mas\u001b[39;00m e:\n\u001b[0;32m     67\u001b[0m     filtered_tb \u001b[38;5;241m=\u001b[39m _process_traceback_frames(e\u001b[38;5;241m.\u001b[39m__traceback__)\n",
      "File \u001b[1;32m~\\AppData\\Roaming\\Python\\Python311\\site-packages\\keras\\src\\engine\\training.py:1807\u001b[0m, in \u001b[0;36mModel.fit\u001b[1;34m(self, x, y, batch_size, epochs, verbose, callbacks, validation_split, validation_data, shuffle, class_weight, sample_weight, initial_epoch, steps_per_epoch, validation_steps, validation_batch_size, validation_freq, max_queue_size, workers, use_multiprocessing)\u001b[0m\n\u001b[0;32m   1799\u001b[0m \u001b[38;5;28;01mwith\u001b[39;00m tf\u001b[38;5;241m.\u001b[39mprofiler\u001b[38;5;241m.\u001b[39mexperimental\u001b[38;5;241m.\u001b[39mTrace(\n\u001b[0;32m   1800\u001b[0m     \u001b[38;5;124m\"\u001b[39m\u001b[38;5;124mtrain\u001b[39m\u001b[38;5;124m\"\u001b[39m,\n\u001b[0;32m   1801\u001b[0m     epoch_num\u001b[38;5;241m=\u001b[39mepoch,\n\u001b[1;32m   (...)\u001b[0m\n\u001b[0;32m   1804\u001b[0m     _r\u001b[38;5;241m=\u001b[39m\u001b[38;5;241m1\u001b[39m,\n\u001b[0;32m   1805\u001b[0m ):\n\u001b[0;32m   1806\u001b[0m     callbacks\u001b[38;5;241m.\u001b[39mon_train_batch_begin(step)\n\u001b[1;32m-> 1807\u001b[0m     tmp_logs \u001b[38;5;241m=\u001b[39m \u001b[38;5;28;43mself\u001b[39;49m\u001b[38;5;241;43m.\u001b[39;49m\u001b[43mtrain_function\u001b[49m\u001b[43m(\u001b[49m\u001b[43miterator\u001b[49m\u001b[43m)\u001b[49m\n\u001b[0;32m   1808\u001b[0m     \u001b[38;5;28;01mif\u001b[39;00m data_handler\u001b[38;5;241m.\u001b[39mshould_sync:\n\u001b[0;32m   1809\u001b[0m         context\u001b[38;5;241m.\u001b[39masync_wait()\n",
      "File \u001b[1;32m~\\AppData\\Roaming\\Python\\Python311\\site-packages\\tensorflow\\python\\util\\traceback_utils.py:150\u001b[0m, in \u001b[0;36mfilter_traceback.<locals>.error_handler\u001b[1;34m(*args, **kwargs)\u001b[0m\n\u001b[0;32m    148\u001b[0m filtered_tb \u001b[38;5;241m=\u001b[39m \u001b[38;5;28;01mNone\u001b[39;00m\n\u001b[0;32m    149\u001b[0m \u001b[38;5;28;01mtry\u001b[39;00m:\n\u001b[1;32m--> 150\u001b[0m   \u001b[38;5;28;01mreturn\u001b[39;00m \u001b[43mfn\u001b[49m\u001b[43m(\u001b[49m\u001b[38;5;241;43m*\u001b[39;49m\u001b[43margs\u001b[49m\u001b[43m,\u001b[49m\u001b[43m \u001b[49m\u001b[38;5;241;43m*\u001b[39;49m\u001b[38;5;241;43m*\u001b[39;49m\u001b[43mkwargs\u001b[49m\u001b[43m)\u001b[49m\n\u001b[0;32m    151\u001b[0m \u001b[38;5;28;01mexcept\u001b[39;00m \u001b[38;5;167;01mException\u001b[39;00m \u001b[38;5;28;01mas\u001b[39;00m e:\n\u001b[0;32m    152\u001b[0m   filtered_tb \u001b[38;5;241m=\u001b[39m _process_traceback_frames(e\u001b[38;5;241m.\u001b[39m__traceback__)\n",
      "File \u001b[1;32m~\\AppData\\Roaming\\Python\\Python311\\site-packages\\tensorflow\\python\\eager\\polymorphic_function\\polymorphic_function.py:832\u001b[0m, in \u001b[0;36mFunction.__call__\u001b[1;34m(self, *args, **kwds)\u001b[0m\n\u001b[0;32m    829\u001b[0m compiler \u001b[38;5;241m=\u001b[39m \u001b[38;5;124m\"\u001b[39m\u001b[38;5;124mxla\u001b[39m\u001b[38;5;124m\"\u001b[39m \u001b[38;5;28;01mif\u001b[39;00m \u001b[38;5;28mself\u001b[39m\u001b[38;5;241m.\u001b[39m_jit_compile \u001b[38;5;28;01melse\u001b[39;00m \u001b[38;5;124m\"\u001b[39m\u001b[38;5;124mnonXla\u001b[39m\u001b[38;5;124m\"\u001b[39m\n\u001b[0;32m    831\u001b[0m \u001b[38;5;28;01mwith\u001b[39;00m OptionalXlaContext(\u001b[38;5;28mself\u001b[39m\u001b[38;5;241m.\u001b[39m_jit_compile):\n\u001b[1;32m--> 832\u001b[0m   result \u001b[38;5;241m=\u001b[39m \u001b[38;5;28;43mself\u001b[39;49m\u001b[38;5;241;43m.\u001b[39;49m\u001b[43m_call\u001b[49m\u001b[43m(\u001b[49m\u001b[38;5;241;43m*\u001b[39;49m\u001b[43margs\u001b[49m\u001b[43m,\u001b[49m\u001b[43m \u001b[49m\u001b[38;5;241;43m*\u001b[39;49m\u001b[38;5;241;43m*\u001b[39;49m\u001b[43mkwds\u001b[49m\u001b[43m)\u001b[49m\n\u001b[0;32m    834\u001b[0m new_tracing_count \u001b[38;5;241m=\u001b[39m \u001b[38;5;28mself\u001b[39m\u001b[38;5;241m.\u001b[39mexperimental_get_tracing_count()\n\u001b[0;32m    835\u001b[0m without_tracing \u001b[38;5;241m=\u001b[39m (tracing_count \u001b[38;5;241m==\u001b[39m new_tracing_count)\n",
      "File \u001b[1;32m~\\AppData\\Roaming\\Python\\Python311\\site-packages\\tensorflow\\python\\eager\\polymorphic_function\\polymorphic_function.py:868\u001b[0m, in \u001b[0;36mFunction._call\u001b[1;34m(self, *args, **kwds)\u001b[0m\n\u001b[0;32m    865\u001b[0m   \u001b[38;5;28mself\u001b[39m\u001b[38;5;241m.\u001b[39m_lock\u001b[38;5;241m.\u001b[39mrelease()\n\u001b[0;32m    866\u001b[0m   \u001b[38;5;66;03m# In this case we have created variables on the first call, so we run the\u001b[39;00m\n\u001b[0;32m    867\u001b[0m   \u001b[38;5;66;03m# defunned version which is guaranteed to never create variables.\u001b[39;00m\n\u001b[1;32m--> 868\u001b[0m   \u001b[38;5;28;01mreturn\u001b[39;00m \u001b[43mtracing_compilation\u001b[49m\u001b[38;5;241;43m.\u001b[39;49m\u001b[43mcall_function\u001b[49m\u001b[43m(\u001b[49m\n\u001b[0;32m    869\u001b[0m \u001b[43m      \u001b[49m\u001b[43margs\u001b[49m\u001b[43m,\u001b[49m\u001b[43m \u001b[49m\u001b[43mkwds\u001b[49m\u001b[43m,\u001b[49m\u001b[43m \u001b[49m\u001b[38;5;28;43mself\u001b[39;49m\u001b[38;5;241;43m.\u001b[39;49m\u001b[43m_no_variable_creation_config\u001b[49m\n\u001b[0;32m    870\u001b[0m \u001b[43m  \u001b[49m\u001b[43m)\u001b[49m\n\u001b[0;32m    871\u001b[0m \u001b[38;5;28;01melif\u001b[39;00m \u001b[38;5;28mself\u001b[39m\u001b[38;5;241m.\u001b[39m_variable_creation_config \u001b[38;5;129;01mis\u001b[39;00m \u001b[38;5;129;01mnot\u001b[39;00m \u001b[38;5;28;01mNone\u001b[39;00m:\n\u001b[0;32m    872\u001b[0m   \u001b[38;5;66;03m# Release the lock early so that multiple threads can perform the call\u001b[39;00m\n\u001b[0;32m    873\u001b[0m   \u001b[38;5;66;03m# in parallel.\u001b[39;00m\n\u001b[0;32m    874\u001b[0m   \u001b[38;5;28mself\u001b[39m\u001b[38;5;241m.\u001b[39m_lock\u001b[38;5;241m.\u001b[39mrelease()\n",
      "File \u001b[1;32m~\\AppData\\Roaming\\Python\\Python311\\site-packages\\tensorflow\\python\\eager\\polymorphic_function\\tracing_compilation.py:139\u001b[0m, in \u001b[0;36mcall_function\u001b[1;34m(args, kwargs, tracing_options)\u001b[0m\n\u001b[0;32m    137\u001b[0m bound_args \u001b[38;5;241m=\u001b[39m function\u001b[38;5;241m.\u001b[39mfunction_type\u001b[38;5;241m.\u001b[39mbind(\u001b[38;5;241m*\u001b[39margs, \u001b[38;5;241m*\u001b[39m\u001b[38;5;241m*\u001b[39mkwargs)\n\u001b[0;32m    138\u001b[0m flat_inputs \u001b[38;5;241m=\u001b[39m function\u001b[38;5;241m.\u001b[39mfunction_type\u001b[38;5;241m.\u001b[39munpack_inputs(bound_args)\n\u001b[1;32m--> 139\u001b[0m \u001b[38;5;28;01mreturn\u001b[39;00m \u001b[43mfunction\u001b[49m\u001b[38;5;241;43m.\u001b[39;49m\u001b[43m_call_flat\u001b[49m\u001b[43m(\u001b[49m\u001b[43m  \u001b[49m\u001b[38;5;66;43;03m# pylint: disable=protected-access\u001b[39;49;00m\n\u001b[0;32m    140\u001b[0m \u001b[43m    \u001b[49m\u001b[43mflat_inputs\u001b[49m\u001b[43m,\u001b[49m\u001b[43m \u001b[49m\u001b[43mcaptured_inputs\u001b[49m\u001b[38;5;241;43m=\u001b[39;49m\u001b[43mfunction\u001b[49m\u001b[38;5;241;43m.\u001b[39;49m\u001b[43mcaptured_inputs\u001b[49m\n\u001b[0;32m    141\u001b[0m \u001b[43m\u001b[49m\u001b[43m)\u001b[49m\n",
      "File \u001b[1;32m~\\AppData\\Roaming\\Python\\Python311\\site-packages\\tensorflow\\python\\eager\\polymorphic_function\\concrete_function.py:1323\u001b[0m, in \u001b[0;36mConcreteFunction._call_flat\u001b[1;34m(self, tensor_inputs, captured_inputs)\u001b[0m\n\u001b[0;32m   1319\u001b[0m possible_gradient_type \u001b[38;5;241m=\u001b[39m gradients_util\u001b[38;5;241m.\u001b[39mPossibleTapeGradientTypes(args)\n\u001b[0;32m   1320\u001b[0m \u001b[38;5;28;01mif\u001b[39;00m (possible_gradient_type \u001b[38;5;241m==\u001b[39m gradients_util\u001b[38;5;241m.\u001b[39mPOSSIBLE_GRADIENT_TYPES_NONE\n\u001b[0;32m   1321\u001b[0m     \u001b[38;5;129;01mand\u001b[39;00m executing_eagerly):\n\u001b[0;32m   1322\u001b[0m   \u001b[38;5;66;03m# No tape is watching; skip to running the function.\u001b[39;00m\n\u001b[1;32m-> 1323\u001b[0m   \u001b[38;5;28;01mreturn\u001b[39;00m \u001b[38;5;28;43mself\u001b[39;49m\u001b[38;5;241;43m.\u001b[39;49m\u001b[43m_inference_function\u001b[49m\u001b[38;5;241;43m.\u001b[39;49m\u001b[43mcall_preflattened\u001b[49m\u001b[43m(\u001b[49m\u001b[43margs\u001b[49m\u001b[43m)\u001b[49m\n\u001b[0;32m   1324\u001b[0m forward_backward \u001b[38;5;241m=\u001b[39m \u001b[38;5;28mself\u001b[39m\u001b[38;5;241m.\u001b[39m_select_forward_and_backward_functions(\n\u001b[0;32m   1325\u001b[0m     args,\n\u001b[0;32m   1326\u001b[0m     possible_gradient_type,\n\u001b[0;32m   1327\u001b[0m     executing_eagerly)\n\u001b[0;32m   1328\u001b[0m forward_function, args_with_tangents \u001b[38;5;241m=\u001b[39m forward_backward\u001b[38;5;241m.\u001b[39mforward()\n",
      "File \u001b[1;32m~\\AppData\\Roaming\\Python\\Python311\\site-packages\\tensorflow\\python\\eager\\polymorphic_function\\atomic_function.py:216\u001b[0m, in \u001b[0;36mAtomicFunction.call_preflattened\u001b[1;34m(self, args)\u001b[0m\n\u001b[0;32m    214\u001b[0m \u001b[38;5;28;01mdef\u001b[39;00m \u001b[38;5;21mcall_preflattened\u001b[39m(\u001b[38;5;28mself\u001b[39m, args: Sequence[core\u001b[38;5;241m.\u001b[39mTensor]) \u001b[38;5;241m-\u001b[39m\u001b[38;5;241m>\u001b[39m Any:\n\u001b[0;32m    215\u001b[0m \u001b[38;5;250m  \u001b[39m\u001b[38;5;124;03m\"\"\"Calls with flattened tensor inputs and returns the structured output.\"\"\"\u001b[39;00m\n\u001b[1;32m--> 216\u001b[0m   flat_outputs \u001b[38;5;241m=\u001b[39m \u001b[38;5;28;43mself\u001b[39;49m\u001b[38;5;241;43m.\u001b[39;49m\u001b[43mcall_flat\u001b[49m\u001b[43m(\u001b[49m\u001b[38;5;241;43m*\u001b[39;49m\u001b[43margs\u001b[49m\u001b[43m)\u001b[49m\n\u001b[0;32m    217\u001b[0m   \u001b[38;5;28;01mreturn\u001b[39;00m \u001b[38;5;28mself\u001b[39m\u001b[38;5;241m.\u001b[39mfunction_type\u001b[38;5;241m.\u001b[39mpack_output(flat_outputs)\n",
      "File \u001b[1;32m~\\AppData\\Roaming\\Python\\Python311\\site-packages\\tensorflow\\python\\eager\\polymorphic_function\\atomic_function.py:251\u001b[0m, in \u001b[0;36mAtomicFunction.call_flat\u001b[1;34m(self, *args)\u001b[0m\n\u001b[0;32m    249\u001b[0m \u001b[38;5;28;01mwith\u001b[39;00m record\u001b[38;5;241m.\u001b[39mstop_recording():\n\u001b[0;32m    250\u001b[0m   \u001b[38;5;28;01mif\u001b[39;00m \u001b[38;5;28mself\u001b[39m\u001b[38;5;241m.\u001b[39m_bound_context\u001b[38;5;241m.\u001b[39mexecuting_eagerly():\n\u001b[1;32m--> 251\u001b[0m     outputs \u001b[38;5;241m=\u001b[39m \u001b[38;5;28;43mself\u001b[39;49m\u001b[38;5;241;43m.\u001b[39;49m\u001b[43m_bound_context\u001b[49m\u001b[38;5;241;43m.\u001b[39;49m\u001b[43mcall_function\u001b[49m\u001b[43m(\u001b[49m\n\u001b[0;32m    252\u001b[0m \u001b[43m        \u001b[49m\u001b[38;5;28;43mself\u001b[39;49m\u001b[38;5;241;43m.\u001b[39;49m\u001b[43mname\u001b[49m\u001b[43m,\u001b[49m\n\u001b[0;32m    253\u001b[0m \u001b[43m        \u001b[49m\u001b[38;5;28;43mlist\u001b[39;49m\u001b[43m(\u001b[49m\u001b[43margs\u001b[49m\u001b[43m)\u001b[49m\u001b[43m,\u001b[49m\n\u001b[0;32m    254\u001b[0m \u001b[43m        \u001b[49m\u001b[38;5;28;43mlen\u001b[39;49m\u001b[43m(\u001b[49m\u001b[38;5;28;43mself\u001b[39;49m\u001b[38;5;241;43m.\u001b[39;49m\u001b[43mfunction_type\u001b[49m\u001b[38;5;241;43m.\u001b[39;49m\u001b[43mflat_outputs\u001b[49m\u001b[43m)\u001b[49m\u001b[43m,\u001b[49m\n\u001b[0;32m    255\u001b[0m \u001b[43m    \u001b[49m\u001b[43m)\u001b[49m\n\u001b[0;32m    256\u001b[0m   \u001b[38;5;28;01melse\u001b[39;00m:\n\u001b[0;32m    257\u001b[0m     outputs \u001b[38;5;241m=\u001b[39m make_call_op_in_graph(\n\u001b[0;32m    258\u001b[0m         \u001b[38;5;28mself\u001b[39m,\n\u001b[0;32m    259\u001b[0m         \u001b[38;5;28mlist\u001b[39m(args),\n\u001b[0;32m    260\u001b[0m         \u001b[38;5;28mself\u001b[39m\u001b[38;5;241m.\u001b[39m_bound_context\u001b[38;5;241m.\u001b[39mfunction_call_options\u001b[38;5;241m.\u001b[39mas_attrs(),\n\u001b[0;32m    261\u001b[0m     )\n",
      "File \u001b[1;32m~\\AppData\\Roaming\\Python\\Python311\\site-packages\\tensorflow\\python\\eager\\context.py:1486\u001b[0m, in \u001b[0;36mContext.call_function\u001b[1;34m(self, name, tensor_inputs, num_outputs)\u001b[0m\n\u001b[0;32m   1484\u001b[0m cancellation_context \u001b[38;5;241m=\u001b[39m cancellation\u001b[38;5;241m.\u001b[39mcontext()\n\u001b[0;32m   1485\u001b[0m \u001b[38;5;28;01mif\u001b[39;00m cancellation_context \u001b[38;5;129;01mis\u001b[39;00m \u001b[38;5;28;01mNone\u001b[39;00m:\n\u001b[1;32m-> 1486\u001b[0m   outputs \u001b[38;5;241m=\u001b[39m \u001b[43mexecute\u001b[49m\u001b[38;5;241;43m.\u001b[39;49m\u001b[43mexecute\u001b[49m\u001b[43m(\u001b[49m\n\u001b[0;32m   1487\u001b[0m \u001b[43m      \u001b[49m\u001b[43mname\u001b[49m\u001b[38;5;241;43m.\u001b[39;49m\u001b[43mdecode\u001b[49m\u001b[43m(\u001b[49m\u001b[38;5;124;43m\"\u001b[39;49m\u001b[38;5;124;43mutf-8\u001b[39;49m\u001b[38;5;124;43m\"\u001b[39;49m\u001b[43m)\u001b[49m\u001b[43m,\u001b[49m\n\u001b[0;32m   1488\u001b[0m \u001b[43m      \u001b[49m\u001b[43mnum_outputs\u001b[49m\u001b[38;5;241;43m=\u001b[39;49m\u001b[43mnum_outputs\u001b[49m\u001b[43m,\u001b[49m\n\u001b[0;32m   1489\u001b[0m \u001b[43m      \u001b[49m\u001b[43minputs\u001b[49m\u001b[38;5;241;43m=\u001b[39;49m\u001b[43mtensor_inputs\u001b[49m\u001b[43m,\u001b[49m\n\u001b[0;32m   1490\u001b[0m \u001b[43m      \u001b[49m\u001b[43mattrs\u001b[49m\u001b[38;5;241;43m=\u001b[39;49m\u001b[43mattrs\u001b[49m\u001b[43m,\u001b[49m\n\u001b[0;32m   1491\u001b[0m \u001b[43m      \u001b[49m\u001b[43mctx\u001b[49m\u001b[38;5;241;43m=\u001b[39;49m\u001b[38;5;28;43mself\u001b[39;49m\u001b[43m,\u001b[49m\n\u001b[0;32m   1492\u001b[0m \u001b[43m  \u001b[49m\u001b[43m)\u001b[49m\n\u001b[0;32m   1493\u001b[0m \u001b[38;5;28;01melse\u001b[39;00m:\n\u001b[0;32m   1494\u001b[0m   outputs \u001b[38;5;241m=\u001b[39m execute\u001b[38;5;241m.\u001b[39mexecute_with_cancellation(\n\u001b[0;32m   1495\u001b[0m       name\u001b[38;5;241m.\u001b[39mdecode(\u001b[38;5;124m\"\u001b[39m\u001b[38;5;124mutf-8\u001b[39m\u001b[38;5;124m\"\u001b[39m),\n\u001b[0;32m   1496\u001b[0m       num_outputs\u001b[38;5;241m=\u001b[39mnum_outputs,\n\u001b[1;32m   (...)\u001b[0m\n\u001b[0;32m   1500\u001b[0m       cancellation_manager\u001b[38;5;241m=\u001b[39mcancellation_context,\n\u001b[0;32m   1501\u001b[0m   )\n",
      "File \u001b[1;32m~\\AppData\\Roaming\\Python\\Python311\\site-packages\\tensorflow\\python\\eager\\execute.py:53\u001b[0m, in \u001b[0;36mquick_execute\u001b[1;34m(op_name, num_outputs, inputs, attrs, ctx, name)\u001b[0m\n\u001b[0;32m     51\u001b[0m \u001b[38;5;28;01mtry\u001b[39;00m:\n\u001b[0;32m     52\u001b[0m   ctx\u001b[38;5;241m.\u001b[39mensure_initialized()\n\u001b[1;32m---> 53\u001b[0m   tensors \u001b[38;5;241m=\u001b[39m \u001b[43mpywrap_tfe\u001b[49m\u001b[38;5;241;43m.\u001b[39;49m\u001b[43mTFE_Py_Execute\u001b[49m\u001b[43m(\u001b[49m\u001b[43mctx\u001b[49m\u001b[38;5;241;43m.\u001b[39;49m\u001b[43m_handle\u001b[49m\u001b[43m,\u001b[49m\u001b[43m \u001b[49m\u001b[43mdevice_name\u001b[49m\u001b[43m,\u001b[49m\u001b[43m \u001b[49m\u001b[43mop_name\u001b[49m\u001b[43m,\u001b[49m\n\u001b[0;32m     54\u001b[0m \u001b[43m                                      \u001b[49m\u001b[43minputs\u001b[49m\u001b[43m,\u001b[49m\u001b[43m \u001b[49m\u001b[43mattrs\u001b[49m\u001b[43m,\u001b[49m\u001b[43m \u001b[49m\u001b[43mnum_outputs\u001b[49m\u001b[43m)\u001b[49m\n\u001b[0;32m     55\u001b[0m \u001b[38;5;28;01mexcept\u001b[39;00m core\u001b[38;5;241m.\u001b[39m_NotOkStatusException \u001b[38;5;28;01mas\u001b[39;00m e:\n\u001b[0;32m     56\u001b[0m   \u001b[38;5;28;01mif\u001b[39;00m name \u001b[38;5;129;01mis\u001b[39;00m \u001b[38;5;129;01mnot\u001b[39;00m \u001b[38;5;28;01mNone\u001b[39;00m:\n",
      "\u001b[1;31mKeyboardInterrupt\u001b[0m: "
     ]
    }
   ],
   "source": [
    "CNN_history = CNN_Model.fit( train_data , validation_data= test_data , epochs=50, batch_size= batch_size,\n",
    "                            callbacks=callbacks, steps_per_epoch= steps_per_epoch, validation_steps=validation_steps)"
   ]
  },
  {
   "cell_type": "markdown",
   "metadata": {
    "id": "t8mdy1A9g7iR"
   },
   "source": [
    "# **Evaluating CNN Model**"
   ]
  },
  {
   "cell_type": "code",
   "execution_count": null,
   "metadata": {
    "execution": {
     "iopub.execute_input": "2022-10-27T17:12:00.430688Z",
     "iopub.status.busy": "2022-10-27T17:12:00.429668Z",
     "iopub.status.idle": "2022-10-27T17:12:07.168636Z",
     "shell.execute_reply": "2022-10-27T17:12:07.167671Z",
     "shell.execute_reply.started": "2022-10-27T17:12:00.430637Z"
    },
    "id": "Eob2J3slg4ie",
    "outputId": "9e76f7b3-4cce-4b88-90d0-fe1a5dfd377f"
   },
   "outputs": [],
   "source": [
    "CNN_Score = CNN_Model.evaluate(test_data)\n",
    "\n",
    "print(\"    Test Loss: {:.5f}\".format(CNN_Score[0]))\n",
    "print(\"Test Accuracy: {:.2f}%\".format(CNN_Score[1] * 100))"
   ]
  },
  {
   "cell_type": "code",
   "execution_count": null,
   "metadata": {
    "execution": {
     "iopub.execute_input": "2022-10-27T17:17:13.408201Z",
     "iopub.status.busy": "2022-10-27T17:17:13.40785Z",
     "iopub.status.idle": "2022-10-27T17:17:13.416518Z",
     "shell.execute_reply": "2022-10-27T17:17:13.415609Z",
     "shell.execute_reply.started": "2022-10-27T17:17:13.408173Z"
    },
    "id": "k65iFZgxg4if"
   },
   "outputs": [],
   "source": [
    "def plot_curves(history):\n",
    "\n",
    "    loss = history.history[\"loss\"]\n",
    "    val_loss = history.history[\"val_loss\"]\n",
    "\n",
    "    accuracy = history.history[\"accuracy\"]\n",
    "    val_accuracy = history.history[\"val_accuracy\"]\n",
    "\n",
    "    epochs = range(len(history.history[\"loss\"]))\n",
    "\n",
    "    plt.figure(figsize=(15,5))\n",
    "\n",
    "    #plot loss\n",
    "    plt.subplot(1, 2, 1)\n",
    "    plt.plot(epochs, loss, label = \"training_loss\")\n",
    "    plt.plot(epochs, val_loss, label = \"val_loss\")\n",
    "    plt.title(\"Loss\")\n",
    "    plt.xlabel(\"epochs\")\n",
    "    plt.legend()\n",
    "\n",
    "    #plot accuracy\n",
    "    plt.subplot(1, 2, 2)\n",
    "    plt.plot(epochs, accuracy, label = \"training_accuracy\")\n",
    "    plt.plot(epochs, val_accuracy, label = \"val_accuracy\")\n",
    "    plt.title(\"Accuracy\")\n",
    "    plt.xlabel(\"epochs\")\n",
    "    plt.legend()\n",
    "  \n",
    "  #plt.tight_layout()"
   ]
  },
  {
   "cell_type": "code",
   "execution_count": null,
   "metadata": {
    "execution": {
     "iopub.execute_input": "2022-10-27T17:17:13.70802Z",
     "iopub.status.busy": "2022-10-27T17:17:13.707453Z",
     "iopub.status.idle": "2022-10-27T17:17:14.08144Z",
     "shell.execute_reply": "2022-10-27T17:17:14.080573Z",
     "shell.execute_reply.started": "2022-10-27T17:17:13.707981Z"
    },
    "id": "eE0FwYAog4ig",
    "outputId": "adc52370-828e-4d8f-c618-efc035e1c922"
   },
   "outputs": [],
   "source": [
    "plot_curves(CNN_history)"
   ]
  },
  {
   "cell_type": "code",
   "execution_count": null,
   "metadata": {
    "execution": {
     "iopub.execute_input": "2022-10-27T17:18:50.510844Z",
     "iopub.status.busy": "2022-10-27T17:18:50.510342Z",
     "iopub.status.idle": "2022-10-27T17:18:56.500769Z",
     "shell.execute_reply": "2022-10-27T17:18:56.499814Z",
     "shell.execute_reply.started": "2022-10-27T17:18:50.5108Z"
    },
    "id": "FV4wVKD0g4ig"
   },
   "outputs": [],
   "source": [
    "CNN_Predictions = CNN_Model.predict(test_data)\n",
    "\n",
    "# Choosing highest probalbilty class in every prediction \n",
    "CNN_Predictions = np.argmax(CNN_Predictions, axis=1)"
   ]
  },
  {
   "cell_type": "code",
   "execution_count": null,
   "metadata": {
    "execution": {
     "iopub.execute_input": "2022-10-27T17:18:57.183884Z",
     "iopub.status.busy": "2022-10-27T17:18:57.183522Z",
     "iopub.status.idle": "2022-10-27T17:18:57.194314Z",
     "shell.execute_reply": "2022-10-27T17:18:57.193432Z",
     "shell.execute_reply.started": "2022-10-27T17:18:57.183853Z"
    },
    "id": "JqVSW2g9g4ih",
    "outputId": "fa4f823d-e15b-40a5-a0e4-50ebeb26f69b"
   },
   "outputs": [],
   "source": [
    "test_data.class_indices"
   ]
  },
  {
   "cell_type": "code",
   "execution_count": null,
   "metadata": {
    "execution": {
     "iopub.execute_input": "2022-10-27T17:18:57.476843Z",
     "iopub.status.busy": "2022-10-27T17:18:57.476399Z",
     "iopub.status.idle": "2022-10-27T17:18:58.129695Z",
     "shell.execute_reply": "2022-10-27T17:18:58.128556Z",
     "shell.execute_reply.started": "2022-10-27T17:18:57.476814Z"
    },
    "id": "POOyREFLg4ih",
    "outputId": "d32f802d-dcc1-4a47-8474-2906e1d26b62"
   },
   "outputs": [],
   "source": [
    "import seaborn as sns \n",
    "from sklearn.metrics import confusion_matrix\n",
    "\n",
    "fig, ax= plt.subplots(figsize=(15,10))\n",
    "\n",
    "cm=confusion_matrix(test_data.labels, CNN_Predictions)\n",
    "\n",
    "sns.heatmap(cm, annot=True, fmt='g', ax=ax)\n",
    "\n",
    "ax.set_xlabel('Predicted labels',fontsize=15, fontweight='bold')\n",
    "ax.set_ylabel('True labels', fontsize=15, fontweight='bold')\n",
    "ax.set_title('CNN Confusion Matrix', fontsize=20, fontweight='bold')"
   ]
  },
  {
   "cell_type": "markdown",
   "metadata": {
    "id": "dx6A8KQ9cK3X"
   },
   "source": [
    "# **ResNet50V2 Model**"
   ]
  },
  {
   "cell_type": "code",
   "execution_count": null,
   "metadata": {
    "execution": {
     "iopub.execute_input": "2022-10-30T14:31:17.656848Z",
     "iopub.status.busy": "2022-10-30T14:31:17.656476Z",
     "iopub.status.idle": "2022-10-30T14:31:17.662552Z",
     "shell.execute_reply": "2022-10-30T14:31:17.661601Z",
     "shell.execute_reply.started": "2022-10-30T14:31:17.656816Z"
    },
    "id": "aZsEnoB_cK3X"
   },
   "outputs": [],
   "source": [
    "# specifing new image shape for resnet\n",
    "img_shape = 224\n",
    "batch_size = 64\n",
    "train_data_path = '../input/fer2013/train/'\n",
    "test_data_path = '../input/fer2013/test/'"
   ]
  },
  {
   "cell_type": "code",
   "execution_count": null,
   "metadata": {
    "execution": {
     "iopub.execute_input": "2022-10-30T14:31:17.840088Z",
     "iopub.status.busy": "2022-10-30T14:31:17.839179Z",
     "iopub.status.idle": "2022-10-30T14:31:23.145802Z",
     "shell.execute_reply": "2022-10-30T14:31:23.144748Z",
     "shell.execute_reply.started": "2022-10-30T14:31:17.840049Z"
    },
    "id": "IrQ1RiaXcK3X",
    "outputId": "83ce4b7c-bfaf-4818-b2ae-f8203a83caee"
   },
   "outputs": [],
   "source": [
    "train_preprocessor = ImageDataGenerator(\n",
    "        rescale = 1 / 255.,\n",
    "        rotation_range=10,\n",
    "        zoom_range=0.2,\n",
    "        width_shift_range=0.1,\n",
    "        height_shift_range=0.1,\n",
    "        horizontal_flip=True,                                        \n",
    "        fill_mode='nearest',\n",
    "    )\n",
    "\n",
    "\n",
    "test_preprocessor = ImageDataGenerator(\n",
    "    rescale = 1 / 255.,\n",
    ")\n",
    "\n",
    "train_data = train_preprocessor.flow_from_directory(\n",
    "    train_data_path,\n",
    "    class_mode=\"categorical\",\n",
    "    target_size=(img_shape,img_shape),\n",
    "    color_mode='rgb',\n",
    "    shuffle=True,\n",
    "    batch_size=batch_size,\n",
    "    subset='training', \n",
    ")\n",
    "\n",
    "test_data = test_preprocessor.flow_from_directory(\n",
    "    test_data_path,\n",
    "    class_mode=\"categorical\",\n",
    "    target_size=(img_shape,img_shape),\n",
    "    color_mode=\"rgb\",\n",
    "    shuffle=False,\n",
    "    batch_size=batch_size,\n",
    ")"
   ]
  },
  {
   "cell_type": "markdown",
   "metadata": {
    "id": "js0qnA8Sg7iW"
   },
   "source": [
    "# **Fine-Tuning ResNet50V2**"
   ]
  },
  {
   "cell_type": "code",
   "execution_count": null,
   "metadata": {
    "execution": {
     "iopub.execute_input": "2022-10-30T20:07:34.236916Z",
     "iopub.status.busy": "2022-10-30T20:07:34.236506Z",
     "iopub.status.idle": "2022-10-30T20:07:35.524376Z",
     "shell.execute_reply": "2022-10-30T20:07:35.523349Z",
     "shell.execute_reply.started": "2022-10-30T20:07:34.236865Z"
    },
    "id": "BtNktIOScK3Y"
   },
   "outputs": [],
   "source": [
    "# 224,224,3\n",
    "ResNet50V2 = tf.keras.applications.ResNet50V2(input_shape=(224, 224, 3),\n",
    "                                               include_top= False,\n",
    "                                               weights='imagenet'\n",
    "                                               )\n",
    "\n",
    "#ResNet50V2.summary()"
   ]
  },
  {
   "cell_type": "code",
   "execution_count": null,
   "metadata": {
    "execution": {
     "iopub.execute_input": "2022-10-30T20:07:35.526594Z",
     "iopub.status.busy": "2022-10-30T20:07:35.526212Z",
     "iopub.status.idle": "2022-10-30T20:07:35.541604Z",
     "shell.execute_reply": "2022-10-30T20:07:35.540456Z",
     "shell.execute_reply.started": "2022-10-30T20:07:35.526558Z"
    },
    "id": "nYQ-7cLFcK3Y"
   },
   "outputs": [],
   "source": [
    "# Freezing all layers except last 50\n",
    "\n",
    "ResNet50V2.trainable = True\n",
    "\n",
    "for layer in ResNet50V2.layers[:-50]:\n",
    "    layer.trainable = False"
   ]
  },
  {
   "cell_type": "code",
   "execution_count": null,
   "metadata": {
    "execution": {
     "iopub.execute_input": "2022-10-30T20:07:35.544276Z",
     "iopub.status.busy": "2022-10-30T20:07:35.543346Z",
     "iopub.status.idle": "2022-10-30T20:07:35.551941Z",
     "shell.execute_reply": "2022-10-30T20:07:35.550727Z",
     "shell.execute_reply.started": "2022-10-30T20:07:35.544235Z"
    },
    "id": "mOmEg9lhcK3Y"
   },
   "outputs": [],
   "source": [
    "def Create_ResNet50V2_Model():\n",
    "\n",
    "    model = Sequential([\n",
    "                      ResNet50V2,\n",
    "                      Dropout(.25),\n",
    "                      BatchNormalization(),\n",
    "                      Flatten(),\n",
    "                      Dense(64, activation='relu'),\n",
    "                      BatchNormalization(),\n",
    "                      Dropout(.5),\n",
    "                      Dense(7,activation='softmax')\n",
    "                    ])\n",
    "    return model"
   ]
  },
  {
   "cell_type": "code",
   "execution_count": null,
   "metadata": {
    "execution": {
     "iopub.execute_input": "2022-10-30T20:07:35.555124Z",
     "iopub.status.busy": "2022-10-30T20:07:35.554663Z",
     "iopub.status.idle": "2022-10-30T20:07:36.011806Z",
     "shell.execute_reply": "2022-10-30T20:07:36.010749Z",
     "shell.execute_reply.started": "2022-10-30T20:07:35.555087Z"
    },
    "id": "KPQYAXtGcK3Y",
    "outputId": "14afb70c-74b2-441c-cc86-46ba61f5239f"
   },
   "outputs": [],
   "source": [
    "ResNet50V2_Model = Create_ResNet50V2_Model()\n",
    "\n",
    "ResNet50V2_Model.summary()\n",
    "\n",
    "ResNet50V2_Model.compile(optimizer='adam', loss='categorical_crossentropy', metrics=['accuracy'])"
   ]
  },
  {
   "cell_type": "markdown",
   "metadata": {
    "id": "5lQctNn2g7iZ"
   },
   "source": [
    "**Specifying Callbacks**"
   ]
  },
  {
   "cell_type": "code",
   "execution_count": null,
   "metadata": {
    "execution": {
     "iopub.execute_input": "2022-10-30T20:07:55.254105Z",
     "iopub.status.busy": "2022-10-30T20:07:55.253697Z",
     "iopub.status.idle": "2022-10-30T20:07:55.261658Z",
     "shell.execute_reply": "2022-10-30T20:07:55.260407Z",
     "shell.execute_reply.started": "2022-10-30T20:07:55.254071Z"
    },
    "id": "YnlBjvvNcK3Z"
   },
   "outputs": [],
   "source": [
    "# Create Callback Checkpoint\n",
    "checkpoint_path = \"ResNet50V2_Model_Checkpoint\"\n",
    "\n",
    "Checkpoint = ModelCheckpoint(checkpoint_path, monitor=\"val_accuracy\", save_best_only=True)\n",
    "\n",
    "# Create Early Stopping Callback to monitor the accuracy\n",
    "Early_Stopping = EarlyStopping(monitor = 'val_accuracy', patience = 7, restore_best_weights = True, verbose=1)\n",
    "\n",
    "# Create ReduceLROnPlateau Callback to reduce overfitting by decreasing learning\n",
    "Reducing_LR = tf.keras.callbacks.ReduceLROnPlateau(monitor='val_loss',\n",
    "                                                  factor=0.2,\n",
    "                                                  patience=2,\n",
    "#                                                   min_lr=0.00005,\n",
    "                                                  verbose=1)\n",
    "\n",
    "callbacks = [Early_Stopping, Reducing_LR]\n",
    "\n",
    "steps_per_epoch = train_data.n // train_data.batch_size\n",
    "validation_steps = test_data.n // test_data.batch_size"
   ]
  },
  {
   "cell_type": "code",
   "execution_count": null,
   "metadata": {
    "execution": {
     "iopub.execute_input": "2022-10-30T20:07:55.523618Z",
     "iopub.status.busy": "2022-10-30T20:07:55.522967Z"
    },
    "id": "gbv8n50ucK3Z",
    "outputId": "c1a8bb84-c48c-4791-fecd-e7104034381b"
   },
   "outputs": [],
   "source": [
    "ResNet50V2_history = ResNet50V2_Model.fit(train_data ,validation_data = test_data , epochs=30, batch_size=batch_size,\n",
    "                                         callbacks = callbacks, steps_per_epoch=steps_per_epoch, validation_steps=validation_steps)"
   ]
  },
  {
   "cell_type": "markdown",
   "metadata": {
    "id": "ceXxD02Ig7ia"
   },
   "source": [
    "# **Evaluating ResNet50V2**"
   ]
  },
  {
   "cell_type": "code",
   "execution_count": null,
   "metadata": {
    "execution": {
     "iopub.execute_input": "2022-10-30T18:58:17.576495Z",
     "iopub.status.busy": "2022-10-30T18:58:17.576113Z",
     "iopub.status.idle": "2022-10-30T18:58:38.231997Z",
     "shell.execute_reply": "2022-10-30T18:58:38.230756Z",
     "shell.execute_reply.started": "2022-10-30T18:58:17.576446Z"
    },
    "id": "wqh3HHlIcK3Z",
    "outputId": "36d5d713-e1fc-43b9-8ddf-33dfa667aa7e"
   },
   "outputs": [],
   "source": [
    "ResNet50V2_Score = ResNet50V2_Model.evaluate(test_data)\n",
    "\n",
    "print(\"    Test Loss: {:.5f}\".format(ResNet50V2_Score[0]))\n",
    "print(\"Test Accuracy: {:.2f}%\".format(ResNet50V2_Score[1] * 100))"
   ]
  },
  {
   "cell_type": "code",
   "execution_count": null,
   "metadata": {
    "execution": {
     "iopub.execute_input": "2022-10-30T19:01:44.674042Z",
     "iopub.status.busy": "2022-10-30T19:01:44.673664Z",
     "iopub.status.idle": "2022-10-30T19:01:45.040679Z",
     "shell.execute_reply": "2022-10-30T19:01:45.039759Z",
     "shell.execute_reply.started": "2022-10-30T19:01:44.67401Z"
    },
    "id": "jazSl8xhcK3Z",
    "outputId": "c5ac3f70-3a0d-4fcb-fb8f-0cf3ae3c3df7"
   },
   "outputs": [],
   "source": [
    "plot_curves(ResNet50V2_history)"
   ]
  },
  {
   "cell_type": "code",
   "execution_count": null,
   "metadata": {
    "execution": {
     "iopub.execute_input": "2022-10-30T19:01:45.043577Z",
     "iopub.status.busy": "2022-10-30T19:01:45.042633Z",
     "iopub.status.idle": "2022-10-30T19:02:00.310305Z",
     "shell.execute_reply": "2022-10-30T19:02:00.309298Z",
     "shell.execute_reply.started": "2022-10-30T19:01:45.04354Z"
    },
    "id": "qCxEBJyAcK3Z",
    "outputId": "3d547bf1-dffb-463c-bdb2-2d92de2a2c94"
   },
   "outputs": [],
   "source": [
    "ResNet50V2_Predictions = ResNet50V2_Model.predict(test_data)\n",
    "\n",
    "# Choosing highest probalbilty class in every prediction \n",
    "ResNet50V2_Predictions = np.argmax(ResNet50V2_Predictions, axis=1)"
   ]
  },
  {
   "cell_type": "code",
   "execution_count": null,
   "metadata": {
    "execution": {
     "iopub.execute_input": "2022-10-30T19:02:00.312595Z",
     "iopub.status.busy": "2022-10-30T19:02:00.312217Z",
     "iopub.status.idle": "2022-10-30T19:02:00.842964Z",
     "shell.execute_reply": "2022-10-30T19:02:00.842075Z",
     "shell.execute_reply.started": "2022-10-30T19:02:00.312558Z"
    },
    "id": "Eiirk0QmcK3a",
    "outputId": "bccf853b-2007-4309-9bb1-74cb0b3ca035"
   },
   "outputs": [],
   "source": [
    "fig , ax= plt.subplots(figsize=(15,10))\n",
    "\n",
    "cm=confusion_matrix(test_data.labels, ResNet50V2_Predictions)\n",
    "\n",
    "sns.heatmap(cm, annot=True, fmt='g', ax=ax)\n",
    "\n",
    "ax.set_xlabel('Predicted labels',fontsize=15, fontweight='bold')\n",
    "ax.set_ylabel('True labels', fontsize=15, fontweight='bold')\n",
    "ax.set_title('ResNet50V2 Confusion Matrix', fontsize=20, fontweight='bold')"
   ]
  },
  {
   "cell_type": "markdown",
   "metadata": {
    "id": "9-KBB9vecK3a"
   },
   "source": [
    "# **Visualizing Predictions**"
   ]
  },
  {
   "cell_type": "code",
   "execution_count": null,
   "metadata": {
    "execution": {
     "iopub.execute_input": "2022-10-30T19:05:58.587035Z",
     "iopub.status.busy": "2022-10-30T19:05:58.586639Z",
     "iopub.status.idle": "2022-10-30T19:05:58.591981Z",
     "shell.execute_reply": "2022-10-30T19:05:58.590856Z",
     "shell.execute_reply.started": "2022-10-30T19:05:58.587001Z"
    },
    "id": "MZNLFgF0cK3a"
   },
   "outputs": [],
   "source": [
    "Emotion_Classes = ['Angry', \n",
    "                  'Disgust', \n",
    "                  'Fear', \n",
    "                  'Happy', \n",
    "                  'Neutral', \n",
    "                  'Sad', \n",
    "                  'Surprise']"
   ]
  },
  {
   "cell_type": "code",
   "execution_count": null,
   "metadata": {
    "execution": {
     "iopub.execute_input": "2022-10-30T19:05:58.878799Z",
     "iopub.status.busy": "2022-10-30T19:05:58.878532Z",
     "iopub.status.idle": "2022-10-30T19:05:59.987156Z",
     "shell.execute_reply": "2022-10-30T19:05:59.986168Z",
     "shell.execute_reply.started": "2022-10-30T19:05:58.878773Z"
    },
    "id": "lfdvcajhcK3a",
    "outputId": "d4431b10-d724-46a1-c3e1-40a8bc799915"
   },
   "outputs": [],
   "source": [
    "# Shuffling Test Data to show diffrent classes\n",
    "test_preprocessor = ImageDataGenerator(\n",
    "        rescale = 1 / 255.,\n",
    "    )\n",
    "\n",
    "test_generator = test_preprocessor.flow_from_directory(\n",
    "    test_data_path,\n",
    "    class_mode=\"categorical\",\n",
    "    target_size=(img_shape,img_shape),\n",
    "    color_mode=\"rgb\",\n",
    "    shuffle=True,\n",
    "    batch_size=batch_size,\n",
    ")"
   ]
  },
  {
   "cell_type": "markdown",
   "metadata": {
    "id": "v_55MRiycK3a"
   },
   "source": [
    "**CNN Predictions**"
   ]
  },
  {
   "cell_type": "code",
   "execution_count": null,
   "metadata": {
    "execution": {
     "iopub.execute_input": "2022-10-27T17:19:38.549826Z",
     "iopub.status.busy": "2022-10-27T17:19:38.549036Z",
     "iopub.status.idle": "2022-10-27T17:19:40.37717Z",
     "shell.execute_reply": "2022-10-27T17:19:40.37603Z",
     "shell.execute_reply.started": "2022-10-27T17:19:38.549787Z"
    },
    "id": "WPUMun3Yg4ip",
    "outputId": "ae53dd6e-b39f-4668-a118-13b1ef0c8b10"
   },
   "outputs": [],
   "source": [
    "# Display 10 random pictures from the dataset with their labels\n",
    "\n",
    "Random_batch = np.random.randint(0, len(test_generator) - 1)\n",
    "\n",
    "Random_Img_Index = np.random.randint(0, batch_size - 1 , 10)\n",
    "\n",
    "fig, axes = plt.subplots(nrows=2, ncols=5, figsize=(25, 10),\n",
    "                        subplot_kw={'xticks': [], 'yticks': []})\n",
    "\n",
    "for i, ax in enumerate(axes.flat):\n",
    "\n",
    "    Random_Img = test_generator[Random_batch][0][Random_Img_Index[i]]\n",
    "\n",
    "    Random_Img_Label = np.argmax(test_generator[Random_batch][1][Random_Img_Index[i]])\n",
    "\n",
    "    Model_Prediction = np.argmax(CNN_Model.predict( tf.expand_dims(Random_Img, axis=0) , verbose=0))\n",
    "\n",
    "    ax.imshow(Random_Img)\n",
    "\n",
    "    if Emotion_Classes[Random_Img_Label] == Emotion_Classes[Model_Prediction]:\n",
    "          color = \"green\"\n",
    "    else:\n",
    "          color = \"red\"\n",
    "    ax.set_title(f\"True: {Emotion_Classes[Random_Img_Label]}\\nPredicted: {Emotion_Classes[Model_Prediction]}\", color=color)\n",
    "plt.show()\n",
    "plt.tight_layout()"
   ]
  },
  {
   "cell_type": "markdown",
   "metadata": {
    "id": "-HkrH9xocK3b"
   },
   "source": [
    "**ResNet50V2 Predictions**"
   ]
  },
  {
   "cell_type": "code",
   "execution_count": null,
   "metadata": {
    "execution": {
     "iopub.execute_input": "2022-10-30T20:06:03.148398Z",
     "iopub.status.busy": "2022-10-30T20:06:03.148017Z",
     "iopub.status.idle": "2022-10-30T20:06:26.907941Z",
     "shell.execute_reply": "2022-10-30T20:06:26.906907Z",
     "shell.execute_reply.started": "2022-10-30T20:06:03.148366Z"
    },
    "id": "P5XxFfFLcK3b",
    "outputId": "d215612e-0ddc-470c-b9bd-b7957b74006c"
   },
   "outputs": [],
   "source": [
    "# Display 10 random pictures from the dataset with their labels\n",
    "\n",
    "Random_batch = np.random.randint(0, len(test_generator) - 1)\n",
    "\n",
    "Random_Img_Index = np.random.randint(0, batch_size - 1 , 10)\n",
    "\n",
    "fig, axes = plt.subplots(nrows=2, ncols=5, figsize=(25, 10),\n",
    "                        subplot_kw={'xticks': [], 'yticks': []})\n",
    "\n",
    "for i, ax in enumerate(axes.flat):\n",
    "\n",
    "    Random_Img = test_generator[Random_batch][0][Random_Img_Index[i]]\n",
    "\n",
    "    Random_Img_Label = np.argmax(test_generator[Random_batch][1][Random_Img_Index[i]])\n",
    "\n",
    "    Model_Prediction = np.argmax(ResNet50V2_Model.predict( tf.expand_dims(Random_Img, axis=0) , verbose=0))\n",
    "\n",
    "    ax.imshow(Random_Img)\n",
    "\n",
    "    if Emotion_Classes[Random_Img_Label] == Emotion_Classes[Model_Prediction]:\n",
    "          color = \"green\"\n",
    "    else:\n",
    "          color = \"red\"\n",
    "    ax.set_title(f\"True: {Emotion_Classes[Random_Img_Label]}\\nPredicted: {Emotion_Classes[Model_Prediction]}\", color=color)\n",
    "plt.show()\n",
    "plt.tight_layout()"
   ]
  },
  {
   "cell_type": "markdown",
   "metadata": {
    "id": "itHZWvvzcK3d"
   },
   "source": [
    "# **Music Player**"
   ]
  },
  {
   "cell_type": "code",
   "execution_count": null,
   "metadata": {
    "execution": {
     "iopub.execute_input": "2022-10-31T18:44:12.89275Z",
     "iopub.status.busy": "2022-10-31T18:44:12.892338Z",
     "iopub.status.idle": "2022-10-31T18:44:12.91836Z",
     "shell.execute_reply": "2022-10-31T18:44:12.917516Z",
     "shell.execute_reply.started": "2022-10-31T18:44:12.892695Z"
    },
    "id": "Clp4WedccK3d"
   },
   "outputs": [],
   "source": [
    "Music_Player = pd.read_csv(\"../input/spotify-music-data-to-identify-the-moods/data_moods.csv\")\n",
    "Music_Player = Music_Player[['name','artist','mood','popularity']]\n",
    "Music_Player.head()"
   ]
  },
  {
   "cell_type": "code",
   "execution_count": null,
   "metadata": {
    "execution": {
     "iopub.execute_input": "2022-10-31T18:44:13.076155Z",
     "iopub.status.busy": "2022-10-31T18:44:13.075871Z",
     "iopub.status.idle": "2022-10-31T18:44:13.085288Z",
     "shell.execute_reply": "2022-10-31T18:44:13.084195Z",
     "shell.execute_reply.started": "2022-10-31T18:44:13.076128Z"
    },
    "id": "j0Dqm_PccK3d"
   },
   "outputs": [],
   "source": [
    "Music_Player[\"mood\"].value_counts()"
   ]
  },
  {
   "cell_type": "code",
   "execution_count": null,
   "metadata": {
    "execution": {
     "iopub.execute_input": "2022-10-31T18:44:13.259742Z",
     "iopub.status.busy": "2022-10-31T18:44:13.259464Z",
     "iopub.status.idle": "2022-10-31T18:44:13.269393Z",
     "shell.execute_reply": "2022-10-31T18:44:13.268362Z",
     "shell.execute_reply.started": "2022-10-31T18:44:13.25971Z"
    },
    "id": "UzlWiV9AcK3e"
   },
   "outputs": [],
   "source": [
    "Music_Player[\"popularity\"].value_counts()"
   ]
  },
  {
   "cell_type": "code",
   "execution_count": null,
   "metadata": {
    "execution": {
     "iopub.execute_input": "2022-10-31T18:44:14.92233Z",
     "iopub.status.busy": "2022-10-31T18:44:14.921634Z",
     "iopub.status.idle": "2022-10-31T18:44:14.939284Z",
     "shell.execute_reply": "2022-10-31T18:44:14.93837Z",
     "shell.execute_reply.started": "2022-10-31T18:44:14.922287Z"
    },
    "id": "_wFUR5WCcK3e"
   },
   "outputs": [],
   "source": [
    "Play = Music_Player[Music_Player['mood'] =='Calm' ]\n",
    "Play = Play.sort_values(by=\"popularity\", ascending=False)\n",
    "Play = Play[:5].reset_index(drop=True)\n",
    "display(Play)"
   ]
  },
  {
   "cell_type": "code",
   "execution_count": null,
   "metadata": {
    "execution": {
     "iopub.execute_input": "2022-10-30T19:06:07.143375Z",
     "iopub.status.busy": "2022-10-30T19:06:07.142971Z",
     "iopub.status.idle": "2022-10-30T19:06:07.155071Z",
     "shell.execute_reply": "2022-10-30T19:06:07.152016Z",
     "shell.execute_reply.started": "2022-10-30T19:06:07.143338Z"
    },
    "id": "G9jZq-NIcK3e"
   },
   "outputs": [],
   "source": [
    "# Making Songs Recommendations Based on Predicted Class\n",
    "def Recommend_Songs(pred_class):\n",
    "    \n",
    "    if( pred_class=='Disgust' ):\n",
    "\n",
    "        Play = Music_Player[Music_Player['mood'] =='Sad' ]\n",
    "        Play = Play.sort_values(by=\"popularity\", ascending=False)\n",
    "        Play = Play[:5].reset_index(drop=True)\n",
    "        display(Play)\n",
    "\n",
    "    if( pred_class=='Happy' or pred_class=='Sad' ):\n",
    "\n",
    "        Play = Music_Player[Music_Player['mood'] =='Happy' ]\n",
    "        Play = Play.sort_values(by=\"popularity\", ascending=False)\n",
    "        Play = Play[:5].reset_index(drop=True)\n",
    "        display(Play)\n",
    "\n",
    "    if( pred_class=='Fear' or pred_class=='Angry' ):\n",
    "\n",
    "        Play = Music_Player[Music_Player['mood'] =='Calm' ]\n",
    "        Play = Play.sort_values(by=\"popularity\", ascending=False)\n",
    "        Play = Play[:5].reset_index(drop=True)\n",
    "        display(Play)\n",
    "\n",
    "    if( pred_class=='Surprise' or pred_class=='Neutral' ):\n",
    "\n",
    "        Play = Music_Player[Music_Player['mood'] =='Energetic' ]\n",
    "        Play = Play.sort_values(by=\"popularity\", ascending=False)\n",
    "        Play = Play[:5].reset_index(drop=True)\n",
    "        display(Play)"
   ]
  },
  {
   "cell_type": "markdown",
   "metadata": {
    "id": "Lzx3wYuScK3b"
   },
   "source": [
    "# **Predicting New Images**"
   ]
  },
  {
   "cell_type": "markdown",
   "metadata": {
    "id": "vKPKFGZGPAgK"
   },
   "source": [
    "**Downloading OpenCV haarcascade frontalface Detection**"
   ]
  },
  {
   "cell_type": "code",
   "execution_count": null,
   "metadata": {
    "execution": {
     "iopub.execute_input": "2022-10-30T19:47:22.892322Z",
     "iopub.status.busy": "2022-10-30T19:47:22.891828Z",
     "iopub.status.idle": "2022-10-30T19:47:24.344508Z",
     "shell.execute_reply": "2022-10-30T19:47:24.34321Z",
     "shell.execute_reply.started": "2022-10-30T19:47:22.892283Z"
    },
    "id": "HELIc8QYcK3b"
   },
   "outputs": [],
   "source": [
    "!wget https://raw.githubusercontent.com/opencv/opencv/master/data/haarcascades/haarcascade_frontalface_default.xml\n",
    "    \n",
    "faceCascade = cv2.CascadeClassifier(\"haarcascade_frontalface_default.xml\")    "
   ]
  },
  {
   "cell_type": "code",
   "execution_count": null,
   "metadata": {
    "execution": {
     "iopub.execute_input": "2022-10-30T20:04:23.45811Z",
     "iopub.status.busy": "2022-10-30T20:04:23.457131Z",
     "iopub.status.idle": "2022-10-30T20:04:23.468119Z",
     "shell.execute_reply": "2022-10-30T20:04:23.46716Z",
     "shell.execute_reply.started": "2022-10-30T20:04:23.458075Z"
    },
    "id": "tc6rfKoZcK3b"
   },
   "outputs": [],
   "source": [
    "def load_and_prep_image(filename, img_shape = 224):\n",
    "\n",
    "    img = cv2.imread(filename)\n",
    "\n",
    "    GrayImg = cv2.cvtColor(img,cv2.COLOR_BGR2GRAY)\n",
    "    \n",
    "    faces = faceCascade.detectMultiScale(GrayImg, 1.1, 4)\n",
    "    \n",
    "    for x,y,w,h in faces:\n",
    "        \n",
    "        roi_GrayImg = GrayImg[ y: y + h , x: x + w ]\n",
    "        roi_Img = img[ y: y + h , x: x + w ]\n",
    "        \n",
    "        cv2.rectangle(img, (x,y), (x+w, y+h), (0, 255, 0), 2)\n",
    "        \n",
    "        plt.imshow(cv2.cvtColor(img,cv2.COLOR_BGR2RGB))\n",
    "        \n",
    "        faces = faceCascade.detectMultiScale(roi_Img, 1.1, 4)\n",
    "        \n",
    "        if len(faces) == 0:\n",
    "            print(\"No Faces Detected\")\n",
    "        else:\n",
    "            for (ex, ey, ew, eh) in faces:\n",
    "                img = roi_Img[ ey: ey+eh , ex: ex+ew ]\n",
    "    \n",
    "    RGBImg = cv2.cvtColor(img,cv2.COLOR_BGR2RGB)\n",
    "    \n",
    "    RGBImg= cv2.resize(RGBImg,(img_shape,img_shape))\n",
    "\n",
    "    RGBImg = RGBImg/255.\n",
    "\n",
    "    return RGBImg"
   ]
  },
  {
   "cell_type": "code",
   "execution_count": null,
   "metadata": {
    "execution": {
     "iopub.execute_input": "2022-10-30T20:04:24.105926Z",
     "iopub.status.busy": "2022-10-30T20:04:24.105574Z",
     "iopub.status.idle": "2022-10-30T20:04:24.112349Z",
     "shell.execute_reply": "2022-10-30T20:04:24.111127Z",
     "shell.execute_reply.started": "2022-10-30T20:04:24.105874Z"
    },
    "id": "sVYUG7rKcK3c"
   },
   "outputs": [],
   "source": [
    "def pred_and_plot(filename, class_names):\n",
    "\n",
    "    # Import the target image and preprocess it\n",
    "    img = load_and_prep_image(filename)\n",
    "\n",
    "    # Make a prediction\n",
    "    pred = ResNet50V2_Model.predict(np.expand_dims(img, axis=0))\n",
    "\n",
    "    # Get the predicted class\n",
    "    pred_class = class_names[pred.argmax()]\n",
    "\n",
    "    # Plot the image and predicted class\n",
    "    #plt.imshow(img)\n",
    "    plt.title(f\"Prediction: {pred_class}\")\n",
    "    plt.axis(False);\n",
    "    \n",
    "    Recommend_Songs(pred_class)"
   ]
  },
  {
   "cell_type": "code",
   "execution_count": null,
   "metadata": {
    "execution": {
     "iopub.execute_input": "2022-10-30T20:04:51.177866Z",
     "iopub.status.busy": "2022-10-30T20:04:51.177434Z",
     "iopub.status.idle": "2022-10-30T20:04:51.324353Z",
     "shell.execute_reply": "2022-10-30T20:04:51.322671Z",
     "shell.execute_reply.started": "2022-10-30T20:04:51.177819Z"
    },
    "id": "3do329gHcK3c",
    "outputId": "7bcee067-cf07-4c86-c615-438c7b9963d5"
   },
   "outputs": [],
   "source": [
    "pred_and_plot(\"../input/fer2013/test/sad/PrivateTest_13472479.jpg\", Emotion_Classes) # with CNN"
   ]
  },
  {
   "cell_type": "code",
   "execution_count": null,
   "metadata": {
    "execution": {
     "iopub.execute_input": "2022-10-30T20:04:25.019039Z",
     "iopub.status.busy": "2022-10-30T20:04:25.018411Z",
     "iopub.status.idle": "2022-10-30T20:04:27.366993Z",
     "shell.execute_reply": "2022-10-30T20:04:27.365859Z",
     "shell.execute_reply.started": "2022-10-30T20:04:25.019005Z"
    },
    "id": "sQsZN5zVg7if"
   },
   "outputs": [],
   "source": [
    "# Downloading Image to Test On\n",
    "!wget -c \"https://pbs.twimg.com/media/EEY3RFFWwAAc-qm.jpg\" -O sad.jpg"
   ]
  },
  {
   "cell_type": "code",
   "execution_count": null,
   "metadata": {
    "execution": {
     "iopub.execute_input": "2022-10-30T20:04:29.42101Z",
     "iopub.status.busy": "2022-10-30T20:04:29.420566Z",
     "iopub.status.idle": "2022-10-30T20:04:29.800787Z",
     "shell.execute_reply": "2022-10-30T20:04:29.799869Z",
     "shell.execute_reply.started": "2022-10-30T20:04:29.420973Z"
    },
    "id": "Iq4tuqLccK3c",
    "outputId": "abdf1b2b-a121-4b13-be60-950fba6004c4"
   },
   "outputs": [],
   "source": [
    "pred_and_plot(\"./happy.jpg\", Emotion_Classes) # with CNN"
   ]
  },
  {
   "cell_type": "code",
   "execution_count": null,
   "metadata": {
    "execution": {
     "iopub.execute_input": "2022-10-31T16:32:09.323384Z",
     "iopub.status.busy": "2022-10-31T16:32:09.322998Z",
     "iopub.status.idle": "2022-10-31T16:32:09.456222Z",
     "shell.execute_reply": "2022-10-31T16:32:09.45507Z",
     "shell.execute_reply.started": "2022-10-31T16:32:09.323353Z"
    },
    "id": "Gj1DR9_2VIqG",
    "outputId": "396fcd4a-0ff0-4ff6-8733-c51d62a1242e"
   },
   "outputs": [],
   "source": [
    "pred_and_plot(\"../input/fer2013/test/angry/PrivateTest_22126718.jpg\", Emotion_Classes) # with ResNet50V2"
   ]
  },
  {
   "cell_type": "code",
   "execution_count": null,
   "metadata": {
    "execution": {
     "iopub.execute_input": "2022-10-30T20:03:24.613597Z",
     "iopub.status.busy": "2022-10-30T20:03:24.613229Z",
     "iopub.status.idle": "2022-10-30T20:03:26.636656Z",
     "shell.execute_reply": "2022-10-30T20:03:26.635257Z",
     "shell.execute_reply.started": "2022-10-30T20:03:24.613565Z"
    },
    "id": "ebnQADoXg7ih"
   },
   "outputs": [],
   "source": [
    "# Downloading Image to Test On\n",
    "!wget -c \"https://pbs.twimg.com/profile_images/758370732413947904/xYB5Q3FY_400x400.jpg\" -O happy.jpg "
   ]
  },
  {
   "cell_type": "code",
   "execution_count": null,
   "metadata": {
    "execution": {
     "iopub.execute_input": "2022-10-30T20:03:26.642058Z",
     "iopub.status.busy": "2022-10-30T20:03:26.641253Z",
     "iopub.status.idle": "2022-10-30T20:03:27.159941Z",
     "shell.execute_reply": "2022-10-30T20:03:27.159091Z",
     "shell.execute_reply.started": "2022-10-30T20:03:26.642009Z"
    },
    "id": "i-nw1MEYcK3c",
    "outputId": "68a7a39c-e165-4f54-c4ea-e45e954c53a9"
   },
   "outputs": [],
   "source": [
    "pred_and_plot(\"./sad.jpg\", Emotion_Classes) # with ResNet50V2"
   ]
  },
  {
   "cell_type": "code",
   "execution_count": null,
   "metadata": {
    "execution": {
     "iopub.execute_input": "2022-10-30T20:00:26.511074Z",
     "iopub.status.busy": "2022-10-30T20:00:26.510148Z",
     "iopub.status.idle": "2022-10-30T20:00:27.284131Z",
     "shell.execute_reply": "2022-10-30T20:00:27.282642Z",
     "shell.execute_reply.started": "2022-10-30T20:00:26.511026Z"
    },
    "id": "L5YUzcKgg7ih"
   },
   "outputs": [],
   "source": [
    "CNN_Model.save(\"CNN_Model.h5\")\n",
    "\n",
    "ResNet50V2_Model.save(\"ResNet50V2_Model.h5\")"
   ]
  }
 ],
 "metadata": {
  "kaggle": {
   "accelerator": "none",
   "dataSources": [
    {
     "datasetId": 786787,
     "sourceId": 1351797,
     "sourceType": "datasetVersion"
    },
    {
     "datasetId": 1012989,
     "sourceId": 1708668,
     "sourceType": "datasetVersion"
    }
   ],
   "dockerImageVersionId": 30301,
   "isGpuEnabled": false,
   "isInternetEnabled": false,
   "language": "python",
   "sourceType": "notebook"
  },
  "kernelspec": {
   "display_name": "Python 3 (ipykernel)",
   "language": "python",
   "name": "python3"
  },
  "language_info": {
   "codemirror_mode": {
    "name": "ipython",
    "version": 3
   },
   "file_extension": ".py",
   "mimetype": "text/x-python",
   "name": "python",
   "nbconvert_exporter": "python",
   "pygments_lexer": "ipython3",
   "version": "3.11.0"
  }
 },
 "nbformat": 4,
 "nbformat_minor": 4
}
